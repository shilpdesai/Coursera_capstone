{
    "nbformat_minor": 1, 
    "cells": [
        {
            "source": "\n# Toronto Neighborhood", 
            "cell_type": "markdown", 
            "metadata": {}
        }, 
        {
            "execution_count": null, 
            "cell_type": "code", 
            "metadata": {}, 
            "outputs": [], 
            "source": "import numpy as np # data in a vectorized manner manipulation\nimport pandas as pd # data analsysis\nfrom pandas.io.json import json_normalize # tranform JSON file into a pandas dataframe\nimport json # JSON files manipulation\nimport requests # HTTP library\nfrom bs4 import BeautifulSoup # scraping library\n\nfrom sklearn.cluster import KMeans # clustering algorithm\n\npd.set_option('display.max_columns', None)\npd.set_option('display.max_rows', None)\n\n# Matplotlib and associated plotting modules\nimport matplotlib.cm as cm\nimport matplotlib.colors as colors\n\n!conda install -c conda-forge folium=0.5.0 --yes\nimport folium # map rendering library\n\nprint('Libraries imported.')"
        }, 
        {
            "execution_count": null, 
            "cell_type": "code", 
            "metadata": {}, 
            "outputs": [], 
            "source": "url = \"https://en.wikipedia.org/wiki/List_of_postal_codes_of_Canada:_M\"\n\ntext_result = requests.get(url).text #get the entire html of the article as a str\nhtml_parsed_result = BeautifulSoup(text_result, 'html.parser') #transform the text to html\n\nneightborhood_info_table = html_parsed_result.find('table', class_ = 'wikitable')\nneightborhood_rows = neightborhood_info_table.find_all('tr')\n\n# extract the info ('Postcode', 'Borough', 'Neighbourhood') from the table\nneightborhood_info = []\nfor row in neightborhood_rows:\n    info = row.text.split('\\n')[1:-1] # remove empty str (first and last items)\n    neightborhood_info.append(info)\n    \nneightborhood_info[0:10]"
        }, 
        {
            "execution_count": null, 
            "cell_type": "code", 
            "metadata": {}, 
            "outputs": [], 
            "source": "#create a Neighborhoods dataframe\nneightborhood_info[0][-1] = 'Neighborhood' # change to american spelling\nneighborhood_df = pd.DataFrame(neightborhood_info[1:], columns=neightborhood_info[0])\n\nneighborhood_df.head(10)"
        }, 
        {
            "execution_count": null, 
            "cell_type": "code", 
            "metadata": {}, 
            "outputs": [], 
            "source": "not_assigned_boroughs = neighborhood_df.index[neighborhood_df['Borough'] == 'Not assigned']\nnot_assigned_neighborhoods = neighborhood_df.index[neighborhood_df['Neighborhood'] == 'Not assigned']\nnot_assigned_neighborhoods_and_borough = not_assigned_boroughs & not_assigned_neighborhoods\n"
        }, 
        {
            "execution_count": null, 
            "cell_type": "code", 
            "metadata": {}, 
            "outputs": [], 
            "source": "neighborhood_df.drop(neighborhood_df.index[not_assigned_boroughs], inplace=True)\nneighborhood_df.reset_index(drop=True, inplace=True)\n\nneighborhood_df.head(10)"
        }, 
        {
            "execution_count": null, 
            "cell_type": "code", 
            "metadata": {}, 
            "outputs": [], 
            "source": "not_assigned_neighborhoods = neighborhood_df.index[neighborhood_df['Neighborhood'] == 'Not assigned'] # run this again because the indexes on the dataframe where reset\n\nfor idx in not_assigned_neighborhoods:\n    neighborhood_df['Neighborhood'][idx] = neighborhood_df['Borough'][idx]\n    \nneighborhood_df.head(10)"
        }, 
        {
            "execution_count": null, 
            "cell_type": "code", 
            "metadata": {}, 
            "outputs": [], 
            "source": "group = neighborhood_df.groupby('Postcode')\ngrouped_neighborhoods = group['Neighborhood'].apply(lambda x: \"%s\" % ', '.join(x))\ngrouped_boroughs = group['Borough'].apply(lambda x: set(x).pop())\ngrouped_df = pd.DataFrame(list(zip(grouped_boroughs.index, grouped_boroughs, grouped_neighborhoods)))\ngrouped_df.columns = ['Postcode', 'Borough', 'Neighborhood']\n\ngrouped_df.head(10)"
        }, 
        {
            "execution_count": null, 
            "cell_type": "code", 
            "metadata": {}, 
            "outputs": [], 
            "source": "# Shape\nprint('The DataFrame shape is', grouped_df.shape)\n"
        }, 
        {
            "execution_count": null, 
            "cell_type": "code", 
            "metadata": {}, 
            "outputs": [], 
            "source": "#Importing Longituttde and Latitude \n\nLink = 'https://cocl.us/Geospatial_data'\ncoordinates_df = pd.read_csv('https://cocl.us/Geospatial_data') # transform the csv file into a dataframe\nprint('The coordinates dataframe shape is', coordinates_df.shape)\ncoordinates_df.head()"
        }, 
        {
            "execution_count": null, 
            "cell_type": "code", 
            "metadata": {}, 
            "outputs": [], 
            "source": "postcodes_with_coordinates_df = grouped_df.join(coordinates_df.set_index('Postal Code'), on='Postcode')\n\npostcodes_with_coordinates_df.head(16)"
        }, 
        {
            "execution_count": null, 
            "cell_type": "code", 
            "metadata": {
                "scrolled": true
            }, 
            "outputs": [], 
            "source": "map = folium.Map(location=[43.6532,-79.3832], zoom_start=11)\n\nfor location in postcodes_with_coordinates_df.itertuples(): #iterate each row of the dataframe\n    label = 'Postal Code: {};  Borough: {};  Neighborhoods: {}'.format(location[1], location[2], location[3])\n    label = folium.Popup(label, parse_html=True)    \n    folium.CircleMarker(\n        [location[-2], location[-1]],\n        radius=1,\n        color='blue',\n        fill=True,\n        fill_color='#3186cc',\n        fill_opacity=0.7,\n        parse_html=False).add_to(map) \n    folium.Circle(\n        radius=500,\n        popup=label,\n        location=[location[-2], location[-1]],\n        color='#3186cc',\n        fill=True,\n        fill_color='#3186cc'\n    ).add_to(map) \n    \nmap"
        }, 
        {
            "execution_count": null, 
            "cell_type": "code", 
            "metadata": {}, 
            "outputs": [], 
            "source": "from geopy.distance import great_circle\n\n#function to get the closest postcode pair and the distance using latitude and longitude\ndef closest_postcode(postcode, postcodes):\n    postcode = np.asarray(postcode).reshape(1,-1)\n    postcodes = np.asarray(postcodes)\n    distances = [great_circle(postcode, point).meters for point in postcodes]\n    closest_postcode_index = np.argmin(distances)\n    return [round(distances[closest_postcode_index]), closest_postcode_index]"
        }, 
        {
            "execution_count": null, 
            "cell_type": "code", 
            "metadata": {}, 
            "outputs": [], 
            "source": ""
        }, 
        {
            "execution_count": null, 
            "cell_type": "code", 
            "metadata": {}, 
            "outputs": [], 
            "source": "import matplotlib.pyplot as plt\n\nX = postcodes_with_coordinates_df[['Longitude', 'Latitude']]\n\nscatter_plot = X.plot.scatter(x='Longitude', \n               y='Latitude',  \n               fontsize = 16,\n               figsize=(15, 10))\n\nscatter_plot.set_yticklabels([])\nscatter_plot.set_xticklabels([])\nscatter_plot.set_xticks([])\nscatter_plot.set_yticks([])\nscatter_plot.spines['top'].set_color(None)\nscatter_plot.spines['right'].set_color(None)\nplt.xlabel('Longitude', fontsize=16)\nplt.ylabel('Latitude', fontsize=16)\nscatter_plot.set_title('Toronto Postal Codes Position', fontsize=16)\n\nscatter_plot.set_yticklabels(labels = 'Latitude', fontdict={'fontsize': 20})\nplt.show()"
        }, 
        {
            "execution_count": null, 
            "cell_type": "code", 
            "metadata": {}, 
            "outputs": [], 
            "source": "#To explore the distance function, the closest postcode to the first example in the dataframe is found\ncoordinates = postcodes_with_coordinates_df[['Latitude', 'Longitude']]\n\ndistance, closest_point_index = closest_postcode(coordinates[:1], coordinates[~coordinates.index.isin([0])])\nclose_points = X[:1].append(X[closest_point_index+1:closest_point_index+2])\nclose_points"
        }, 
        {
            "execution_count": null, 
            "cell_type": "code", 
            "metadata": {}, 
            "outputs": [], 
            "source": "from math import isnan\n\nfor lat, lng, idx in zip(postcodes_with_coordinates_df['Latitude'], postcodes_with_coordinates_df['Longitude'], postcodes_with_coordinates_df.index):\n    distance, closest_point_index = closest_postcode([lat,lng], coordinates[~coordinates.index.isin([idx])])\n    postcodes_with_coordinates_df.at[idx,'Distance'] = np.int64(distance//2) #use the half of the disstance to avoid overlapping\n    \npostcodes_with_coordinates_df.head(15)"
        }, 
        {
            "execution_count": null, 
            "cell_type": "code", 
            "metadata": {
                "scrolled": true
            }, 
            "outputs": [], 
            "source": "map = folium.Map(location=[43.6532,-79.3832], zoom_start=11)\n\nfor location in postcodes_with_coordinates_df.itertuples(): #iterate each row of the dataframe\n    label = 'Postal Code: {};  Borough: {};  Neighborhoods: {}'.format(location[1], location[2], location[3])\n    label = folium.Popup(label, parse_html=True)    \n    folium.CircleMarker(\n        [location[-3], location[-2]],\n        radius=1,\n        color='blue',\n        fill=True,\n        fill_color='#3186cc',\n        fill_opacity=0.7,\n        parse_html=False).add_to(map) \n    folium.Circle(\n        radius=location[-1],\n        popup=label,\n        location=[location[-3], location[-2]],\n        color='#3186cc',\n        fill=True,\n        fill_color='#3186cc'\n    ).add_to(map) \n    \nmap"
        }, 
        {
            "execution_count": null, 
            "cell_type": "code", 
            "metadata": {}, 
            "outputs": [], 
            "source": "CLIENT_ID = 'YRR3SG31RPHFUCA4X4AYD235A1OUKVK2OWRWGSR5CZZ4QTXP' \nCLIENT_SECRET = 'PUE0Y0D44TANWTU3NAG2TZI042GHKV3CC0B4H52RPDUQO4M' \nVERSION = '20180605' \nprint('Your credentails:')\nprint('CLIENT_ID: ' + CLIENT_ID)\nprint('CLIENT_SECRET:' + CLIENT_SECRET)"
        }, 
        {
            "execution_count": null, 
            "cell_type": "code", 
            "metadata": {}, 
            "outputs": [], 
            "source": "#function to format url\ndef format_url(lat, lng, radius=500, limit=100):\n    return 'https://api.foursquare.com/v2/venues/explore?client_id={}&client_secret={}&ll={},{}&v={}&radius={}&limit={}'.format(CLIENT_ID, CLIENT_SECRET, \n        lat, lng, VERSION, radius, limit)\n"
        }, 
        {
            "execution_count": null, 
            "cell_type": "code", 
            "metadata": {}, 
            "outputs": [], 
            "source": "first_postcode = postcodes_with_coordinates_df.iloc[2, :]\nurl = format_url(first_postcode['Latitude'], first_postcode['Longitude'], first_postcode['Distance'])\n\nurl"
        }, 
        {
            "execution_count": null, 
            "cell_type": "code", 
            "metadata": {}, 
            "outputs": [], 
            "source": "#function to get batch of venues as a dataframe\ndef get_venues(url):\n    results = requests.get(url).json()\n    venues = results['response']['groups'][0]['items']\n    return json_normalize(venues)"
        }, 
        {
            "execution_count": null, 
            "cell_type": "code", 
            "metadata": {}, 
            "outputs": [], 
            "source": "venues_df = get_venues(url)\n\nvenues_df.head()"
        }, 
        {
            "execution_count": null, 
            "cell_type": "code", 
            "metadata": {}, 
            "outputs": [], 
            "source": "#function to clean the venues dataframe\ndef clean_df(df):\n    relevant_columns = ['venue.categories', 'venue.location.lat', 'venue.location.lng', 'venue.name']\n    clean_df = df.loc[:,relevant_columns]\n\n    #rename columns\n    clean_df.columns = ['Category', 'Lat', 'Lng', 'Name']\n    return clean_df \n\nvenues_df = clean_df(venues_df)\nvenues_df.head()"
        }, 
        {
            "execution_count": null, 
            "cell_type": "code", 
            "metadata": {}, 
            "outputs": [], 
            "source": ""
        }, 
        {
            "execution_count": null, 
            "cell_type": "code", 
            "metadata": {}, 
            "outputs": [], 
            "source": ""
        }, 
        {
            "execution_count": null, 
            "cell_type": "code", 
            "metadata": {}, 
            "outputs": [], 
            "source": ""
        }
    ], 
    "metadata": {
        "kernelspec": {
            "display_name": "Python 3.6", 
            "name": "python3", 
            "language": "python"
        }, 
        "language_info": {
            "mimetype": "text/x-python", 
            "nbconvert_exporter": "python", 
            "version": "3.6.8", 
            "name": "python", 
            "file_extension": ".py", 
            "pygments_lexer": "ipython3", 
            "codemirror_mode": {
                "version": 3, 
                "name": "ipython"
            }
        }
    }, 
    "nbformat": 4
}